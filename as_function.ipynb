{
 "cells": [
  {
   "cell_type": "code",
   "execution_count": 14,
   "metadata": {},
   "outputs": [],
   "source": [
    "#having trouble with using pandas.Dataframe with filename defined in function\n",
    "#I can use the np.load with a file name specified but this has problems with a header\n",
    "\n",
    "import os\n",
    "import glob\n",
    "import numpy as np\n",
    "import pandas\n",
    "import re\n",
    "\n",
    "\n",
    "#This bring in my data and get rid of the junk...creates a couple of new clms and saves file with a new name.\n",
    "def sheep_import_101(filename):\n",
    "    data_np = np.loadtxt(fname=filename, delimiter=',', dtype='str',skiprows=42, usecols=range(0,6))\n",
    "    df_data = pandas.DataFrame(data_np)\n",
    "    file_path_str_101 = str(glob.glob(filename))\n",
    "    \n",
    "    temp101= file_path_str_101.split('/')\n",
    "    temp201 = temp101[-1]\n",
    "    temp301 = temp201.split('.csv')\n",
    "    temp401 = temp301[0]\n",
    "    info_101 = temp401.replace('\\\\', ' ')\n",
    "    info_list_101 = info_101.split(' ')\n",
    "    \n",
    "    treatment_str_101 = info_list_101[0]\n",
    "    sheep_str_101 = info_list_101[3]\n",
    "    day_str_101 = info_list_101[5]\n",
    "    \n",
    "    file_path_arr_101 = np.array([file_path_str_101])\n",
    "    treatment_101 = np.array([treatment_str_101])\n",
    "    sheep_101 = np.array([sheep_str_101])\n",
    "    day_101 = np.array([day_str_101])\n",
    "    \n",
    "    df_data.loc[:,'file_path_details'] = file_path_arr_101.tolist()\n",
    "    df_data.loc[:,'treatment'] = treatment_101.tolist()\n",
    "    df_data.loc[:,'sheep'] = sheep_101.tolist()\n",
    "    df_data.loc[:,'day'] = day_101.tolist()\n",
    "    \n",
    "    #create a new file with the treatment, sheep and day in the name - it has no extention - is this a problem...\n",
    "    new_file_name = ('treat_' + treatment_str_101 + '_sheep_' + sheep_str_101 + '_day_' + day_str_101 + '.csv')\n",
    "    df_data.to_csv(new_file_name,index=False)\n"
   ]
  },
  {
   "cell_type": "code",
   "execution_count": 35,
   "metadata": {},
   "outputs": [],
   "source": [
    "#having trouble with using pandas.Dataframe with filename defined in function\n",
    "#I can use the np.load with a file name specified but this has problems with a header\n",
    "\n",
    "import os\n",
    "import glob\n",
    "import numpy as np\n",
    "import pandas\n",
    "import re\n",
    "\n",
    "\n",
    "#This bring in my data and get rid of the junk...creates a couple of new clms and saves file with a new name.\n",
    "def sheep_import_103(file_x):\n",
    "    df_data = pandas.read_csv(file_x, delimiter=',', dtype='str', skiprows=42, usecols=range(0,6))\n",
    "    file_path_str_101 = str(glob.glob(file_x))\n",
    "    \n",
    "    temp101= file_path_str_101.split('/')\n",
    "    temp201 = temp101[-1]\n",
    "    temp301 = temp201.split('.csv')\n",
    "    temp401 = temp301[0]\n",
    "    info_101 = temp401.replace('\\\\', ' ')\n",
    "    info_list_101 = info_101.split(' ')\n",
    "    \n",
    "    #info_list = filename.split(' ') #Kerensa advice\n",
    "    #info_list = file_path_str_101.split(' ')\n",
    "    #print(info_list)\n",
    "    \n",
    "    treatment_str_101 = info_list_101[0]\n",
    "    sheep_str_101 = info_list_101[3]\n",
    "    day_str_101 = info_list_101[5]\n",
    "    \n",
    "    file_path_arr_101 = np.array([file_path_str_101])\n",
    "    treatment_101 = np.array([treatment_str_101])\n",
    "    sheep_101 = np.array([sheep_str_101])\n",
    "    day_101 = np.array([day_str_101])\n",
    "    \n",
    "    df_data.loc[:,'file_path_details'] = file_path_arr_101.tolist()\n",
    "    df_data.loc[:,'treatment'] = treatment_101.tolist()\n",
    "    df_data.loc[:,'sheep'] = sheep_101.tolist()\n",
    "    df_data.loc[:,'day'] = day_101.tolist()\n",
    "    \n",
    "    #create a new file with the treatment, sheep and day in the name - it has no extention - is this a problem...\n",
    "    \n",
    "    new_file_name = ('treat_' + treatment_str_101 + '_sheep_' + sheep_str_101 + '_day_' + day_str_101 + '.csv')\n",
    "    df_data.to_csv(new_file_name,index=False)"
   ]
  },
  {
   "cell_type": "code",
   "execution_count": 36,
   "metadata": {},
   "outputs": [],
   "source": [
    "sheep_import_103(\"/Users/ouz001/DATASCHOOL/command_line_program/GPS_rawdata/control\\Sheep 2 day 1.csv\")"
   ]
  },
  {
   "cell_type": "code",
   "execution_count": 16,
   "metadata": {},
   "outputs": [],
   "source": [
    "import os\n",
    "import glob\n",
    "import numpy as np\n",
    "import pandas\n",
    "import re\n",
    "\n",
    "def sheep_import_102(file_x):\n",
    "    df_data = pandas.read_csv(file_x, delimiter=',', dtype='str', skiprows=42, usecols=range(0,6))\n",
    "    file_path_str_102 = str(glob.glob(file_x))\n",
    "    print(file_path_str_102)"
   ]
  },
  {
   "cell_type": "code",
   "execution_count": 17,
   "metadata": {
    "scrolled": true
   },
   "outputs": [
    {
     "name": "stdout",
     "output_type": "stream",
     "text": [
      "['Sheep 2 day 1.csv']\n"
     ]
    }
   ],
   "source": [
    "sheep_import_102(\"Sheep 2 day 1.csv\")"
   ]
  },
  {
   "cell_type": "code",
   "execution_count": 34,
   "metadata": {},
   "outputs": [
    {
     "name": "stdout",
     "output_type": "stream",
     "text": [
      "/Users/ouz001/DATASCHOOL/command_line_program/GPS_rawdata/control\\Sheep 2 day 1.csv\n",
      "/Users/ouz001/DATASCHOOL/command_line_program/GPS_rawdata/control\\Sheep 4 day 1.csv\n",
      "/Users/ouz001/DATASCHOOL/command_line_program/GPS_rawdata/control\\Sheep 4 day 2.csv\n",
      "/Users/ouz001/DATASCHOOL/command_line_program/GPS_rawdata/control\\Sheep 6 day 1.csv\n",
      "/Users/ouz001/DATASCHOOL/command_line_program/GPS_rawdata/control\\Sheep 6 day 2.csv\n"
     ]
    }
   ],
   "source": [
    "\n",
    "list_of_file = glob.glob('/Users/ouz001/DATASCHOOL/command_line_program/GPS_rawdata/control/*.csv')\n",
    "print(*list_of_file, sep=\"\\n\")\n"
   ]
  },
  {
   "cell_type": "code",
   "execution_count": 28,
   "metadata": {},
   "outputs": [],
   "source": [
    "sheep_import_101('/Users/ouz001/DATASCHOOL/command_line_program/GPS_rawdata/control\\\\Sheep 6 day 2.csv')"
   ]
  }
 ],
 "metadata": {
  "kernelspec": {
   "display_name": "Python 3",
   "language": "python",
   "name": "python3"
  },
  "language_info": {
   "codemirror_mode": {
    "name": "ipython",
    "version": 3
   },
   "file_extension": ".py",
   "mimetype": "text/x-python",
   "name": "python",
   "nbconvert_exporter": "python",
   "pygments_lexer": "ipython3",
   "version": "3.6.5"
  }
 },
 "nbformat": 4,
 "nbformat_minor": 2
}

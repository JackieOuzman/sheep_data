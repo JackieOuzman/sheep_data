{
 "cells": [
  {
   "cell_type": "markdown",
   "metadata": {},
   "source": [
    "My code before i had it working well"
   ]
  },
  {
   "cell_type": "code",
   "execution_count": 14,
   "metadata": {},
   "outputs": [],
   "source": [
    "#having trouble with using pandas.Dataframe with filename defined in function\n",
    "#I can use the np.load with a file name specified but this has problems with a header\n",
    "\n",
    "import os\n",
    "import glob\n",
    "import numpy as np\n",
    "import pandas\n",
    "import re\n",
    "\n",
    "\n",
    "#This bring in my data and get rid of the junk...creates a couple of new clms and saves file with a new name.\n",
    "def sheep_import_101(filename):\n",
    "    data_np = np.loadtxt(fname=filename, delimiter=',', dtype='str',skiprows=42, usecols=range(0,6))\n",
    "    df_data = pandas.DataFrame(data_np)\n",
    "    file_path_str_101 = str(glob.glob(filename))\n",
    "    \n",
    "    temp101= file_path_str_101.split('/')\n",
    "    temp201 = temp101[-1]\n",
    "    temp301 = temp201.split('.csv')\n",
    "    temp401 = temp301[0]\n",
    "    info_101 = temp401.replace('\\\\', ' ')\n",
    "    info_list_101 = info_101.split(' ')\n",
    "    \n",
    "    treatment_str_101 = info_list_101[0]\n",
    "    sheep_str_101 = info_list_101[3]\n",
    "    day_str_101 = info_list_101[5]\n",
    "    \n",
    "    file_path_arr_101 = np.array([file_path_str_101])\n",
    "    treatment_101 = np.array([treatment_str_101])\n",
    "    sheep_101 = np.array([sheep_str_101])\n",
    "    day_101 = np.array([day_str_101])\n",
    "    \n",
    "    df_data.loc[:,'file_path_details'] = file_path_arr_101.tolist()\n",
    "    df_data.loc[:,'treatment'] = treatment_101.tolist()\n",
    "    df_data.loc[:,'sheep'] = sheep_101.tolist()\n",
    "    df_data.loc[:,'day'] = day_101.tolist()\n",
    "    \n",
    "    #create a new file with the treatment, sheep and day in the name - it has no extention - is this a problem...\n",
    "    new_file_name = ('treat_' + treatment_str_101 + '_sheep_' + sheep_str_101 + '_day_' + day_str_101 + '.csv')\n",
    "    df_data.to_csv(new_file_name,index=False)\n"
   ]
  },
  {
   "cell_type": "markdown",
   "metadata": {},
   "source": [
    "This is the same code as above but i now have pandas working to import my data.\n",
    "Things that need to be improved - when I call the file i need to spefify the whole file path not just the file name.\n",
    "Also I would like to just specify the folder and then it runs for the all file in the folder."
   ]
  },
  {
   "cell_type": "code",
   "execution_count": 1,
   "metadata": {},
   "outputs": [],
   "source": [
    "#having trouble with using pandas.Dataframe with filename defined in function - working now\n",
    "\n",
    "\n",
    "import os\n",
    "import glob\n",
    "import numpy as np\n",
    "import pandas\n",
    "import re\n",
    "\n",
    "\n",
    "#This bring in my data and get rid of the junk...creates a couple of new clms and saves file with a new name.\n",
    "def sheep_import_103(file_x):\n",
    "    df_data = pandas.read_csv(file_x, delimiter=',', dtype='str', skiprows=42, usecols=range(0,6))\n",
    "    file_path_str_101 = str(glob.glob(file_x))\n",
    "    \n",
    "    temp101= file_path_str_101.split('/')\n",
    "    temp201 = temp101[-1]\n",
    "    temp301 = temp201.split('.csv')\n",
    "    temp401 = temp301[0]\n",
    "    info_101 = temp401.replace('\\\\', ' ')\n",
    "    info_list_101 = info_101.split(' ')\n",
    "    \n",
    "    #info_list = filename.split(' ') #Kerensa advice\n",
    "    #info_list = file_path_str_101.split(' ')\n",
    "    #print(info_list)\n",
    "    \n",
    "    treatment_str_101 = info_list_101[0]\n",
    "    sheep_str_101 = info_list_101[3]\n",
    "    day_str_101 = info_list_101[5]\n",
    "    \n",
    "    file_path_arr_101 = np.array([file_path_str_101])\n",
    "    treatment_101 = np.array([treatment_str_101])\n",
    "    sheep_101 = np.array([sheep_str_101])\n",
    "    day_101 = np.array([day_str_101])\n",
    "    \n",
    "    df_data.loc[:,'file_path_details'] = file_path_arr_101.tolist()\n",
    "    df_data.loc[:,'treatment'] = treatment_101.tolist()\n",
    "    df_data.loc[:,'sheep'] = sheep_101.tolist()\n",
    "    df_data.loc[:,'day'] = day_101.tolist()\n",
    "    \n",
    "    #create a new file with the treatment, sheep and day in the name - I have added an extention - is this a problem...\n",
    "    \n",
    "    new_file_name = ('treat_' + treatment_str_101 + '_sheep_' + sheep_str_101 + '_day_' + day_str_101 + '.csv')\n",
    "    df_data.to_csv(new_file_name,index=False)"
   ]
  },
  {
   "cell_type": "code",
   "execution_count": 2,
   "metadata": {},
   "outputs": [],
   "source": [
    "sheep_import_103(\"/Users/ouz001/DATASCHOOL/command_line_program/GPS_rawdata/control\\Sheep 2 day 1.csv\")"
   ]
  },
  {
   "cell_type": "markdown",
   "metadata": {},
   "source": [
    "This one is looking good - just need to call in the file name and it should work!\n",
    "it does but my script need to be in the same folder as my files."
   ]
  },
  {
   "cell_type": "code",
   "execution_count": 114,
   "metadata": {},
   "outputs": [],
   "source": [
    "import os\n",
    "import glob\n",
    "import numpy as np\n",
    "import pandas\n",
    "import re\n",
    "\n",
    "def sheep_import_102(file_x):\n",
    "    df_data = pandas.read_csv(file_x, delimiter=',', dtype='str', skiprows=42, usecols=range(0,6))\n",
    "    file_path = r'%s' % os.getcwd().replace('\\\\','/')\n",
    "    file_name = str(glob.glob(file_x))\n",
    "    \n",
    "    \n",
    "    treatment_a = file_path.split('/') #Kerensa advice\n",
    "    treatment = treatment_a[-1]\n",
    "    \n",
    "    file_name_a = file_name.split(' ')\n",
    "    sheep = file_name_a[1]\n",
    "    \n",
    "    day_a = file_name_a[3]\n",
    "    day_b = day_a.split('.csv')\n",
    "    day = day_b[0]\n",
    "    \n",
    "    #print('file_path=', file_path)\n",
    "    #print('treatment=', treatment)\n",
    "    #print('sheep=' ,sheep)\n",
    "    #print('day=', day)\n",
    "    \n",
    "    #change into array\n",
    "    file_path_array = np.array([file_path])\n",
    "    treatment_array = np.array([treatment])\n",
    "    sheep_array = np.array([sheep])\n",
    "    day_array = np.array([day])\n",
    "    \n",
    "    #make a new clm in the data frame\n",
    "    df_data.loc[:,'file_path_details'] = file_path_array.tolist()\n",
    "    df_data.loc[:,'treatment'] = treatment_array.tolist()\n",
    "    df_data.loc[:,'sheep'] = sheep_array.tolist()\n",
    "    df_data.loc[:,'day'] = day_array.tolist()\n",
    "    \n",
    "    #create a new file with the treatment, sheep and day in the name - I have added an extention - is this a problem...\n",
    "    \n",
    "    new_file_name = ('treat_' + treatment + '_sheep_' + sheep + '_day_' + day + '.csv')\n",
    "    df_data.to_csv(new_file_name,index=False)\n",
    "    \n",
    "    print(new_file_name)"
   ]
  },
  {
   "cell_type": "code",
   "execution_count": 119,
   "metadata": {},
   "outputs": [
    {
     "name": "stdout",
     "output_type": "stream",
     "text": [
      "treat_control_sheep_4_day_2.csv\n"
     ]
    }
   ],
   "source": [
    "sheep_import_102()"
   ]
  },
  {
   "cell_type": "code",
   "execution_count": null,
   "metadata": {},
   "outputs": [],
   "source": []
  },
  {
   "cell_type": "code",
   "execution_count": null,
   "metadata": {},
   "outputs": [],
   "source": []
  },
  {
   "cell_type": "code",
   "execution_count": 113,
   "metadata": {},
   "outputs": [
    {
     "name": "stdout",
     "output_type": "stream",
     "text": [
      "/Users/ouz001/DATASCHOOL/command_line_program/GPS_rawdata/control\\Sheep 2 day 1.csv\n",
      "/Users/ouz001/DATASCHOOL/command_line_program/GPS_rawdata/control\\Sheep 4 day 1.csv\n",
      "/Users/ouz001/DATASCHOOL/command_line_program/GPS_rawdata/control\\Sheep 4 day 2.csv\n",
      "/Users/ouz001/DATASCHOOL/command_line_program/GPS_rawdata/control\\Sheep 6 day 1.csv\n",
      "/Users/ouz001/DATASCHOOL/command_line_program/GPS_rawdata/control\\Sheep 6 day 2.csv\n",
      "/Users/ouz001/DATASCHOOL/command_line_program/GPS_rawdata/control\\treat_control_sheep_2_day_1.csv\n"
     ]
    }
   ],
   "source": [
    "\n",
    "list_of_file = glob.glob('/Users/ouz001/DATASCHOOL/command_line_program/GPS_rawdata/control/*.csv')\n",
    "print(*list_of_file, sep=\"\\n\")\n"
   ]
  },
  {
   "cell_type": "code",
   "execution_count": 28,
   "metadata": {},
   "outputs": [],
   "source": []
  }
 ],
 "metadata": {
  "kernelspec": {
   "display_name": "Python 3",
   "language": "python",
   "name": "python3"
  },
  "language_info": {
   "codemirror_mode": {
    "name": "ipython",
    "version": 3
   },
   "file_extension": ".py",
   "mimetype": "text/x-python",
   "name": "python",
   "nbconvert_exporter": "python",
   "pygments_lexer": "ipython3",
   "version": "3.6.5"
  }
 },
 "nbformat": 4,
 "nbformat_minor": 2
}
